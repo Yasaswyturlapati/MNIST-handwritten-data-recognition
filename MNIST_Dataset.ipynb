{
  "nbformat": 4,
  "nbformat_minor": 0,
  "metadata": {
    "colab": {
      "provenance": [],
      "gpuType": "T4",
      "authorship_tag": "ABX9TyNl3vJkny2sU7w+jIfRjy2b",
      "include_colab_link": true
    },
    "kernelspec": {
      "name": "python3",
      "display_name": "Python 3"
    },
    "language_info": {
      "name": "python"
    },
    "accelerator": "GPU"
  },
  "cells": [
    {
      "cell_type": "markdown",
      "metadata": {
        "id": "view-in-github",
        "colab_type": "text"
      },
      "source": [
        "<a href=\"https://colab.research.google.com/github/Yasaswyturlapati/Build-Celestial-Bodies-Database/blob/main/MNIST_Dataset.ipynb\" target=\"_parent\"><img src=\"https://colab.research.google.com/assets/colab-badge.svg\" alt=\"Open In Colab\"/></a>"
      ]
    },
    {
      "cell_type": "markdown",
      "source": [
        "# Handwritten digits recognition using FCNN\n",
        "\n",
        "MNIST Data"
      ],
      "metadata": {
        "id": "upITMDXX2PkM"
      }
    },
    {
      "cell_type": "code",
      "source": [
        "import numpy as np\n",
        "import torch\n",
        "import torchvision\n",
        "import matplotlib.pyplot as plt\n",
        "from time import time\n",
        "from torchvision import datasets, transforms\n",
        "from torch import nn, optim"
      ],
      "metadata": {
        "id": "K55spPipvAjo"
      },
      "execution_count": 1,
      "outputs": []
    },
    {
      "cell_type": "code",
      "source": [
        "device = torch.device('cuda')\n",
        "transform = transforms.Compose([transforms.ToTensor(), transforms.Normalize((0.5,),(0.5,)),])"
      ],
      "metadata": {
        "id": "gYAl7t696zlJ"
      },
      "execution_count": 3,
      "outputs": []
    },
    {
      "cell_type": "code",
      "source": [
        "trainset = datasets.MNIST('/content/sample_data', download=True,train=True, transform=transform)\n",
        "valset = datasets.MNIST('/content/sample_data', download=True, train=False, transform=transform)\n",
        "trainloader = torch.utils.data.DataLoader(trainset,batch_size=64,shuffle=True)\n",
        "valloader = torch.utils.data.DataLoader(valset,batch_size=64,shuffle=True)"
      ],
      "metadata": {
        "colab": {
          "base_uri": "https://localhost:8080/"
        },
        "id": "feXwY5TW7IhI",
        "outputId": "053ad81e-638d-452d-af2c-b6da82f20e85"
      },
      "execution_count": 4,
      "outputs": [
        {
          "output_type": "stream",
          "name": "stdout",
          "text": [
            "Downloading http://yann.lecun.com/exdb/mnist/train-images-idx3-ubyte.gz\n",
            "Downloading http://yann.lecun.com/exdb/mnist/train-images-idx3-ubyte.gz to /content/sample_data/MNIST/raw/train-images-idx3-ubyte.gz\n"
          ]
        },
        {
          "output_type": "stream",
          "name": "stderr",
          "text": [
            "100%|██████████| 9912422/9912422 [00:00<00:00, 103630717.65it/s]\n"
          ]
        },
        {
          "output_type": "stream",
          "name": "stdout",
          "text": [
            "Extracting /content/sample_data/MNIST/raw/train-images-idx3-ubyte.gz to /content/sample_data/MNIST/raw\n",
            "\n",
            "Downloading http://yann.lecun.com/exdb/mnist/train-labels-idx1-ubyte.gz\n",
            "Downloading http://yann.lecun.com/exdb/mnist/train-labels-idx1-ubyte.gz to /content/sample_data/MNIST/raw/train-labels-idx1-ubyte.gz\n"
          ]
        },
        {
          "output_type": "stream",
          "name": "stderr",
          "text": [
            "100%|██████████| 28881/28881 [00:00<00:00, 110424515.79it/s]\n"
          ]
        },
        {
          "output_type": "stream",
          "name": "stdout",
          "text": [
            "Extracting /content/sample_data/MNIST/raw/train-labels-idx1-ubyte.gz to /content/sample_data/MNIST/raw\n",
            "\n",
            "Downloading http://yann.lecun.com/exdb/mnist/t10k-images-idx3-ubyte.gz\n",
            "Downloading http://yann.lecun.com/exdb/mnist/t10k-images-idx3-ubyte.gz to /content/sample_data/MNIST/raw/t10k-images-idx3-ubyte.gz\n"
          ]
        },
        {
          "output_type": "stream",
          "name": "stderr",
          "text": [
            "100%|██████████| 1648877/1648877 [00:00<00:00, 24317822.32it/s]\n"
          ]
        },
        {
          "output_type": "stream",
          "name": "stdout",
          "text": [
            "Extracting /content/sample_data/MNIST/raw/t10k-images-idx3-ubyte.gz to /content/sample_data/MNIST/raw\n",
            "\n",
            "Downloading http://yann.lecun.com/exdb/mnist/t10k-labels-idx1-ubyte.gz\n",
            "Downloading http://yann.lecun.com/exdb/mnist/t10k-labels-idx1-ubyte.gz to /content/sample_data/MNIST/raw/t10k-labels-idx1-ubyte.gz\n"
          ]
        },
        {
          "output_type": "stream",
          "name": "stderr",
          "text": [
            "100%|██████████| 4542/4542 [00:00<00:00, 6637814.90it/s]\n"
          ]
        },
        {
          "output_type": "stream",
          "name": "stdout",
          "text": [
            "Extracting /content/sample_data/MNIST/raw/t10k-labels-idx1-ubyte.gz to /content/sample_data/MNIST/raw\n",
            "\n"
          ]
        }
      ]
    },
    {
      "cell_type": "code",
      "source": [
        "for images, labels in trainloader:\n",
        "  print(images.shape, labels.shape)\n",
        "  break"
      ],
      "metadata": {
        "colab": {
          "base_uri": "https://localhost:8080/"
        },
        "id": "bJEBFC9yabxf",
        "outputId": "3fb14790-c9df-4711-c4a5-324a57adbb0d"
      },
      "execution_count": 21,
      "outputs": [
        {
          "output_type": "stream",
          "name": "stdout",
          "text": [
            "torch.Size([64, 1, 28, 28]) torch.Size([64])\n"
          ]
        }
      ]
    },
    {
      "cell_type": "code",
      "source": [
        "plt.imshow(images[0].numpy().squeeze(), cmap='gray_r')"
      ],
      "metadata": {
        "colab": {
          "base_uri": "https://localhost:8080/",
          "height": 447
        },
        "id": "3FyqoLmqawnu",
        "outputId": "bea1a688-0a8a-4c6c-d2d8-da3cc06251a9"
      },
      "execution_count": 22,
      "outputs": [
        {
          "output_type": "execute_result",
          "data": {
            "text/plain": [
              "<matplotlib.image.AxesImage at 0x7d609bcc3490>"
            ]
          },
          "metadata": {},
          "execution_count": 22
        },
        {
          "output_type": "display_data",
          "data": {
            "text/plain": [
              "<Figure size 640x480 with 1 Axes>"
            ],
            "image/png": "[encoded data removed]"
          },
          "metadata": {}
        }
      ]
    },
    {
      "cell_type": "code",
      "source": [
        "figure = plt.figure()\n",
        "num_of_images = 60\n",
        "for index in range(1,num_of_images+1):\n",
        "  plt.subplot(6,10,index)\n",
        "  plt.axis('off')\n",
        "  plt.imshow(images[index].numpy().squeeze(), cmap = 'gray_r')"
      ],
      "metadata": {
        "colab": {
          "base_uri": "https://localhost:8080/",
          "height": 395
        },
        "id": "mmXieLjcSXky",
        "outputId": "cb88efd1-3cd1-495a-a90b-6c8dc9d4d1a1"
      },
      "execution_count": 23,
      "outputs": [
        {
          "output_type": "display_data",
          "data": {
            "text/plain": [
              "<Figure size 640x480 with 60 Axes>"
            ],
            "image/png": "[encoded data removed]"
          },
          "metadata": {}
        }
      ]
    },
    {
      "cell_type": "code",
      "source": [
        "input_size = 784\n",
        "hidden_sizes = [128,64]\n",
        "output_size = 10\n",
        "\n",
        "model = nn.Sequential (nn.Linear(input_size, hidden_sizes[0]),\n",
        "                       nn.ReLU(),\n",
        "                       nn.Linear(hidden_sizes[0],hidden_sizes[1]),\n",
        "                       nn.ReLU(),\n",
        "                       nn.Linear(hidden_sizes[1], output_size),\n",
        "                       nn.LogSoftmax(dim=1))\n",
        "\n",
        "print(model)"
      ],
      "metadata": {
        "colab": {
          "base_uri": "https://localhost:8080/"
        },
        "id": "HpQDn-xvTAwr",
        "outputId": "b345459d-cda9-46e8-8e9f-b198ac97069d"
      },
      "execution_count": 24,
      "outputs": [
        {
          "output_type": "stream",
          "name": "stdout",
          "text": [
            "Sequential(\n",
            "  (0): Linear(in_features=784, out_features=128, bias=True)\n",
            "  (1): ReLU()\n",
            "  (2): Linear(in_features=128, out_features=64, bias=True)\n",
            "  (3): ReLU()\n",
            "  (4): Linear(in_features=64, out_features=10, bias=True)\n",
            "  (5): LogSoftmax(dim=1)\n",
            ")\n"
          ]
        }
      ]
    },
    {
      "cell_type": "code",
      "source": [
        "criterion = nn.NLLLoss()\n",
        "optimizer = optim.SGD(model.parameters(), lr = 0.003, momentum=0.9)\n",
        "epochs = 15\n",
        "for e in range(epochs):\n",
        "  running_loss = 0\n",
        "  for images, labels in trainloader:\n",
        "    images = images.view(images.shape[0],-1)\n",
        "    optimizer.zero_grad()\n",
        "    output = model(images)\n",
        "    loss = criterion(output,labels)\n",
        "    loss.backward()\n",
        "    optimizer.step()\n",
        "    running_loss += loss.item()\n",
        "  else:\n",
        "    print('Epoch {} - Training loss: {}'.format(e,running_loss/len(trainloader)))"
      ],
      "metadata": {
        "colab": {
          "base_uri": "https://localhost:8080/"
        },
        "id": "M09EKB_DVH-K",
        "outputId": "38f64d5c-60d6-4022-fd17-939e91ecb51d"
      },
      "execution_count": 25,
      "outputs": [
        {
          "output_type": "stream",
          "name": "stdout",
          "text": [
            "Epoch 0 - Training loss: 0.6674400400251214\n",
            "Epoch 1 - Training loss: 0.28090322731749845\n",
            "Epoch 2 - Training loss: 0.22140200518722983\n",
            "Epoch 3 - Training loss: 0.18053999209979069\n",
            "Epoch 4 - Training loss: 0.15305296440066687\n",
            "Epoch 5 - Training loss: 0.1311523459240127\n",
            "Epoch 6 - Training loss: 0.11459896709821595\n",
            "Epoch 7 - Training loss: 0.10091546119085507\n",
            "Epoch 8 - Training loss: 0.09160014262287887\n",
            "Epoch 9 - Training loss: 0.08182248896531967\n",
            "Epoch 10 - Training loss: 0.07530700017773569\n",
            "Epoch 11 - Training loss: 0.0688597408214163\n",
            "Epoch 12 - Training loss: 0.0633816059151573\n",
            "Epoch 13 - Training loss: 0.05854313927434528\n",
            "Epoch 14 - Training loss: 0.05489250848135317\n"
          ]
        }
      ]
    },
    {
      "cell_type": "code",
      "source": [
        "correct_count, all_count = 0, 0\n",
        "for images,labels in valloader:\n",
        "  for i in range(len(labels)):\n",
        "    img = images[i].view(1, 784)\n",
        "    with torch.no_grad():\n",
        "        logps = model(img)\n",
        "\n",
        "    ps = torch.exp(logps)\n",
        "    probab = list(ps.numpy()[0])\n",
        "    pred_label = probab.index(max(probab))\n",
        "    true_label = labels.numpy()[i]\n",
        "    if(true_label == pred_label):\n",
        "      correct_count += 1\n",
        "    all_count += 1\n",
        "\n",
        "print(\"Number Of Images Tested =\", all_count)\n",
        "print(\"\\nModel Accuracy =\", (correct_count/all_count))"
      ],
      "metadata": {
        "colab": {
          "base_uri": "https://localhost:8080/"
        },
        "id": "JOPinhuQWRKD",
        "outputId": "fb1acff1-b18d-4260-aa5b-7195f5fcefa1"
      },
      "execution_count": 26,
      "outputs": [
        {
          "output_type": "stream",
          "name": "stdout",
          "text": [
            "Number Of Images Tested = 10000\n",
            "\n",
            "Model Accuracy = 0.9734\n"
          ]
        }
      ]
    },
    {
      "cell_type": "markdown",
      "source": [
        "# Handwritten Digits recognition using CNN\n",
        "\n",
        "Using LeNet architechture"
      ],
      "metadata": {
        "id": "SRHixNTX2Cvv"
      }
    },
    {
      "cell_type": "code",
      "source": [
        "device = torch.device('cuda')\n",
        "transform = transforms.Compose([transforms.ToTensor(), transforms.Normalize((0.5,),(0.5,)),])"
      ],
      "metadata": {
        "id": "05-2qqpI2nyV"
      },
      "execution_count": 2,
      "outputs": []
    },
    {
      "cell_type": "code",
      "source": [
        "trainset = datasets.MNIST('/content/sample_data', download=True,train=True, transform=transform)\n",
        "valset = datasets.MNIST('/content/sample_data', download=True, train=False, transform=transform)\n",
        "trainloader = torch.utils.data.DataLoader(trainset,batch_size=64,shuffle=True)\n",
        "valloader = torch.utils.data.DataLoader(valset,batch_size=64,shuffle=True)"
      ],
      "metadata": {
        "colab": {
          "base_uri": "https://localhost:8080/"
        },
        "outputId": "28e9e0b1-4708-4a1f-f8a0-0acf282350d0",
        "id": "nch3uklU2nyV"
      },
      "execution_count": 3,
      "outputs": [
        {
          "output_type": "stream",
          "name": "stdout",
          "text": [
            "Downloading http://yann.lecun.com/exdb/mnist/train-images-idx3-ubyte.gz\n",
            "Downloading http://yann.lecun.com/exdb/mnist/train-images-idx3-ubyte.gz to /content/sample_data/MNIST/raw/train-images-idx3-ubyte.gz\n"
          ]
        },
        {
          "output_type": "stream",
          "name": "stderr",
          "text": [
            "100%|██████████| 9912422/9912422 [00:00<00:00, 184895985.25it/s]"
          ]
        },
        {
          "output_type": "stream",
          "name": "stdout",
          "text": [
            "Extracting /content/sample_data/MNIST/raw/train-images-idx3-ubyte.gz to /content/sample_data/MNIST/raw\n"
          ]
        },
        {
          "output_type": "stream",
          "name": "stderr",
          "text": [
            "\n"
          ]
        },
        {
          "output_type": "stream",
          "name": "stdout",
          "text": [
            "\n",
            "Downloading http://yann.lecun.com/exdb/mnist/train-labels-idx1-ubyte.gz\n",
            "Downloading http://yann.lecun.com/exdb/mnist/train-labels-idx1-ubyte.gz to /content/sample_data/MNIST/raw/train-labels-idx1-ubyte.gz\n"
          ]
        },
        {
          "output_type": "stream",
          "name": "stderr",
          "text": [
            "100%|██████████| 28881/28881 [00:00<00:00, 28092693.37it/s]\n"
          ]
        },
        {
          "output_type": "stream",
          "name": "stdout",
          "text": [
            "Extracting /content/sample_data/MNIST/raw/train-labels-idx1-ubyte.gz to /content/sample_data/MNIST/raw\n",
            "\n",
            "Downloading http://yann.lecun.com/exdb/mnist/t10k-images-idx3-ubyte.gz\n",
            "Downloading http://yann.lecun.com/exdb/mnist/t10k-images-idx3-ubyte.gz to /content/sample_data/MNIST/raw/t10k-images-idx3-ubyte.gz\n"
          ]
        },
        {
          "output_type": "stream",
          "name": "stderr",
          "text": [
            "100%|██████████| 1648877/1648877 [00:00<00:00, 45011268.59it/s]"
          ]
        },
        {
          "output_type": "stream",
          "name": "stdout",
          "text": [
            "Extracting /content/sample_data/MNIST/raw/t10k-images-idx3-ubyte.gz to /content/sample_data/MNIST/raw\n"
          ]
        },
        {
          "output_type": "stream",
          "name": "stderr",
          "text": [
            "\n"
          ]
        },
        {
          "output_type": "stream",
          "name": "stdout",
          "text": [
            "\n",
            "Downloading http://yann.lecun.com/exdb/mnist/t10k-labels-idx1-ubyte.gz\n",
            "Downloading http://yann.lecun.com/exdb/mnist/t10k-labels-idx1-ubyte.gz to /content/sample_data/MNIST/raw/t10k-labels-idx1-ubyte.gz\n"
          ]
        },
        {
          "output_type": "stream",
          "name": "stderr",
          "text": [
            "100%|██████████| 4542/4542 [00:00<00:00, 4148634.31it/s]"
          ]
        },
        {
          "output_type": "stream",
          "name": "stdout",
          "text": [
            "Extracting /content/sample_data/MNIST/raw/t10k-labels-idx1-ubyte.gz to /content/sample_data/MNIST/raw\n",
            "\n"
          ]
        },
        {
          "output_type": "stream",
          "name": "stderr",
          "text": [
            "\n"
          ]
        }
      ]
    },
    {
      "cell_type": "code",
      "source": [
        "images, labels = next(iter(trainloader))\n",
        "print(images.shape, labels.shape)"
      ],
      "metadata": {
        "colab": {
          "base_uri": "https://localhost:8080/"
        },
        "id": "invCVm1i2oKr",
        "outputId": "71def7a9-1f7e-4c13-b315-c09c1f9ffa2d"
      },
      "execution_count": 10,
      "outputs": [
        {
          "output_type": "stream",
          "name": "stdout",
          "text": [
            "torch.Size([64, 1, 28, 28]) torch.Size([64])\n"
          ]
        }
      ]
    },
    {
      "cell_type": "markdown",
      "source": [
        "Since the MNIST dataset has only 1 channel the LeNet architechture has to be modified in the first row to (N,1,32,32), everything else remains the same."
      ],
      "metadata": {
        "id": "dWp_h828x5Dp"
      }
    },
    {
      "cell_type": "code",
      "source": [
        "class LeNet(nn.Module):\n",
        "  def __init__(self):\n",
        "    super(LeNet, self).__init__()\n",
        "    self.cnn_model = nn.Sequential(\n",
        "        nn.Conv2d(1,6,5,padding = 2),           # (N,1,32,32) -> (N,6,28,28)\n",
        "        nn.Tanh(),                  # No dimension change\n",
        "        nn.AvgPool2d(2,stride=2),   # (N,6,28,28) -> (N,6,14,14)\n",
        "        nn.Conv2d(6,16,5),          # (N,6,14,14) -> (N,16,10,10)\n",
        "        nn.Tanh(),                  # No dimension change\n",
        "        nn.AvgPool2d(2,stride=2)    # (N,16,10,10) -> (N,16,5,5)\n",
        "      )\n",
        "    self.fc_model = nn.Sequential(\n",
        "        nn.Linear(400,120),\n",
        "        nn.Tanh(),\n",
        "        nn.Linear(120,84),\n",
        "        nn.Tanh(),\n",
        "        nn.Linear(84,10)\n",
        "    )\n",
        "  def forward(self,x):\n",
        "    x = self.cnn_model(x)\n",
        "    x = x.view(x.size(0),-1)\n",
        "    x = self.fc_model(x)\n",
        "    return x"
      ],
      "metadata": {
        "id": "M79bi5lz21ce"
      },
      "execution_count": 16,
      "outputs": []
    },
    {
      "cell_type": "code",
      "source": [
        "def evaluation(dataloader):\n",
        "  total, correct = 0, 0\n",
        "  for data in dataloader:\n",
        "    inputs,labels = data\n",
        "    outputs = model(inputs)\n",
        "    _,pred = torch.max(outputs.data,1)\n",
        "    total += labels.size(0)\n",
        "    correct += (pred==labels).sum().item()\n",
        "  return 100*correct/total"
      ],
      "metadata": {
        "id": "855Vj0Ju1aRR"
      },
      "execution_count": 19,
      "outputs": []
    },
    {
      "cell_type": "code",
      "source": [
        "model = LeNet()\n",
        "loss_fn = nn.CrossEntropyLoss()\n",
        "opt = optim.Adam(model.parameters(), lr= 0.01)\n",
        "\n",
        "epochs = 25\n",
        "\n",
        "for epoch in range(1,epochs+1):\n",
        "  for inputs, labels in trainloader:\n",
        "    opt.zero_grad()\n",
        "    outputs = model(inputs)\n",
        "    loss = loss_fn(outputs, labels)\n",
        "    loss.backward()\n",
        "    opt.step()\n",
        "  print('Epoch: %d/%d' % (epoch, epochs), 'Loss:', loss.item())"
      ],
      "metadata": {
        "colab": {
          "base_uri": "https://localhost:8080/"
        },
        "id": "ZqsLYJHUznDp",
        "outputId": "4d0f0013-3819-4752-9109-740fcc5b030f"
      },
      "execution_count": 21,
      "outputs": [
        {
          "output_type": "stream",
          "name": "stdout",
          "text": [
            "Epoch: 1/25 Loss: 0.6197642087936401\n",
            "Epoch: 2/25 Loss: 0.32785123586654663\n",
            "Epoch: 3/25 Loss: 0.21959824860095978\n",
            "Epoch: 4/25 Loss: 0.2702653706073761\n",
            "Epoch: 5/25 Loss: 0.28426313400268555\n",
            "Epoch: 6/25 Loss: 0.07470331341028214\n",
            "Epoch: 7/25 Loss: 0.3042440712451935\n",
            "Epoch: 8/25 Loss: 0.14415544271469116\n",
            "Epoch: 9/25 Loss: 0.05083872005343437\n",
            "Epoch: 10/25 Loss: 0.044979486614465714\n",
            "Epoch: 11/25 Loss: 0.04335083067417145\n",
            "Epoch: 12/25 Loss: 0.11730960756540298\n",
            "Epoch: 13/25 Loss: 0.021672934293746948\n",
            "Epoch: 14/25 Loss: 0.06537853926420212\n",
            "Epoch: 15/25 Loss: 0.18298278748989105\n",
            "Epoch: 16/25 Loss: 0.029520628973841667\n",
            "Epoch: 17/25 Loss: 0.018683891743421555\n",
            "Epoch: 18/25 Loss: 0.05522621050477028\n",
            "Epoch: 19/25 Loss: 0.21935491263866425\n",
            "Epoch: 20/25 Loss: 0.14110024273395538\n",
            "Epoch: 21/25 Loss: 0.023496150970458984\n",
            "Epoch: 22/25 Loss: 0.07804583758115768\n",
            "Epoch: 23/25 Loss: 0.10985668748617172\n",
            "Epoch: 24/25 Loss: 0.021366313099861145\n",
            "Epoch: 25/25 Loss: 0.08027198910713196\n"
          ]
        }
      ]
    },
    {
      "cell_type": "code",
      "source": [
        "print('Test acc: %0.2f, Train acc: %0.2f' % (evaluation(valloader), evaluation(trainloader)))"
      ],
      "metadata": {
        "colab": {
          "base_uri": "https://localhost:8080/"
        },
        "id": "fb1U4igx5hIS",
        "outputId": "b0935fcb-7ab1-4aef-bc1a-b98ae91b844c"
      },
      "execution_count": 22,
      "outputs": [
        {
          "output_type": "stream",
          "name": "stdout",
          "text": [
            "Test acc: 98.28, Train acc: 98.64\n"
          ]
        }
      ]
    },
    {
      "cell_type": "markdown",
      "source": [
        "# Running on GPU"
      ],
      "metadata": {
        "id": "NCFCee7c_LPN"
      }
    },
    {
      "cell_type": "code",
      "source": [
        "import torch\n",
        "import torch.nn as nn\n",
        "import torch.optim as optim\n",
        "\n",
        "device = torch.device('cuda' if torch.cuda.is_available() else 'cpu')\n",
        "\n",
        "class LeNet(nn.Module):\n",
        "    def __init__(self):\n",
        "        super(LeNet, self).__init__()\n",
        "        self.cnn_model = nn.Sequential(\n",
        "            nn.Conv2d(1, 6, 5, padding=2),\n",
        "            nn.Tanh(),\n",
        "            nn.AvgPool2d(2, stride=2),\n",
        "            nn.Conv2d(6, 16, 5),\n",
        "            nn.Tanh(),\n",
        "            nn.AvgPool2d(2, stride=2)\n",
        "        )\n",
        "        self.fc_model = nn.Sequential(\n",
        "            nn.Linear(400, 120),\n",
        "            nn.Tanh(),\n",
        "            nn.Linear(120, 84),\n",
        "            nn.Tanh(),\n",
        "            nn.Linear(84, 10)\n",
        "        )\n",
        "\n",
        "    def forward(self, x):\n",
        "        x = self.cnn_model(x)\n",
        "        x = x.view(x.size(0), -1)\n",
        "        x = self.fc_model(x)\n",
        "        return x\n",
        "\n",
        "model = LeNet().to(device)\n",
        "\n",
        "loss_fn = nn.CrossEntropyLoss()\n",
        "opt = optim.SGD(model.parameters(), lr=0.01)\n",
        "epochs = 20\n",
        "\n",
        "for epoch in range(1, epochs + 1):\n",
        "    for inputs, labels in trainloader:\n",
        "        inputs, labels = inputs.to(device), labels.to(device)\n",
        "        opt.zero_grad()\n",
        "        outputs = model(inputs)\n",
        "        loss = loss_fn(outputs, labels)\n",
        "        loss.backward()\n",
        "        opt.step()\n",
        "    print('Epoch: %d/%d' % (epoch, epochs), 'Loss:', loss.item())"
      ],
      "metadata": {
        "colab": {
          "base_uri": "https://localhost:8080/"
        },
        "id": "MPSLVmpL8Ypg",
        "outputId": "64d14da1-9e54-4656-fcb1-bb3b62b2e6c0"
      },
      "execution_count": 31,
      "outputs": [
        {
          "output_type": "stream",
          "name": "stdout",
          "text": [
            "Epoch: 1/20 Loss: 0.5531863570213318\n",
            "Epoch: 2/20 Loss: 0.43808114528656006\n",
            "Epoch: 3/20 Loss: 0.3963454067707062\n",
            "Epoch: 4/20 Loss: 0.1561901867389679\n",
            "Epoch: 5/20 Loss: 0.15256401896476746\n",
            "Epoch: 6/20 Loss: 0.35368433594703674\n",
            "Epoch: 7/20 Loss: 0.0455632247030735\n",
            "Epoch: 8/20 Loss: 0.16430364549160004\n",
            "Epoch: 9/20 Loss: 0.19577521085739136\n",
            "Epoch: 10/20 Loss: 0.08686727285385132\n",
            "Epoch: 11/20 Loss: 0.16560910642147064\n",
            "Epoch: 12/20 Loss: 0.12210720032453537\n",
            "Epoch: 13/20 Loss: 0.050087135285139084\n",
            "Epoch: 14/20 Loss: 0.009326421655714512\n",
            "Epoch: 15/20 Loss: 0.03615209832787514\n",
            "Epoch: 16/20 Loss: 0.15641330182552338\n",
            "Epoch: 17/20 Loss: 0.15539097785949707\n",
            "Epoch: 18/20 Loss: 0.028407199308276176\n",
            "Epoch: 19/20 Loss: 0.0268403347581625\n",
            "Epoch: 20/20 Loss: 0.06504154205322266\n"
          ]
        }
      ]
    },
    {
      "cell_type": "code",
      "source": [
        "def evaluation(dataloader):\n",
        "    total, correct = 0, 0\n",
        "    with torch.no_grad():\n",
        "        for data in dataloader:\n",
        "            inputs, labels = data\n",
        "            inputs, labels = inputs.to(device), labels.to(device)\n",
        "            outputs = model(inputs)\n",
        "            _, pred = torch.max(outputs, 1)\n",
        "            total += labels.size(0)\n",
        "            correct += (pred == labels).sum().item()\n",
        "    return 100 * correct / total"
      ],
      "metadata": {
        "id": "QanhtWuR9Bu4"
      },
      "execution_count": 32,
      "outputs": []
    },
    {
      "cell_type": "code",
      "source": [
        "print('Test acc: %0.2f, Train acc: %0.2f' % (evaluation(valloader), evaluation(trainloader)))\n"
      ],
      "metadata": {
        "colab": {
          "base_uri": "https://localhost:8080/"
        },
        "id": "uy-2RHer95d4",
        "outputId": "e38e2c66-0e00-4f0e-a313-19fdff9ed324"
      },
      "execution_count": 33,
      "outputs": [
        {
          "output_type": "stream",
          "name": "stdout",
          "text": [
            "Test acc: 98.23, Train acc: 98.29\n"
          ]
        }
      ]
    },
    {
      "cell_type": "code",
      "source": [],
      "metadata": {
        "id": "YlOS8xjE_AW6"
      },
      "execution_count": null,
      "outputs": []
    }
  ]
}
